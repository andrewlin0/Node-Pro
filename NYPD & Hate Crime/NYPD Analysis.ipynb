{
  "nbformat": 4,
  "nbformat_minor": 0,
  "metadata": {
    "colab": {
      "name": "Analysis.ipynb",
      "provenance": []
    },
    "kernelspec": {
      "name": "python3",
      "display_name": "Python 3"
    }
  },
  "cells": [
    {
      "cell_type": "code",
      "metadata": {
        "id": "YI4Xd-UnlbkT",
        "colab": {
          "base_uri": "https://localhost:8080/",
          "height": 34
        },
        "outputId": "65a4ece3-b140-45b1-a020-2d3aef50e1b4"
      },
      "source": [
        "from google.colab import drive\n",
        "drive.mount('/content/drive')"
      ],
      "execution_count": null,
      "outputs": [
        {
          "output_type": "stream",
          "text": [
            "Drive already mounted at /content/drive; to attempt to forcibly remount, call drive.mount(\"/content/drive\", force_remount=True).\n"
          ],
          "name": "stdout"
        }
      ]
    },
    {
      "cell_type": "code",
      "metadata": {
        "id": "Ffvu_hN_qrBz"
      },
      "source": [
        "import pandas as pd\n",
        "import seaborn as sns\n",
        "import matplotlib.pyplot as plt\n",
        "import numpy as np"
      ],
      "execution_count": null,
      "outputs": []
    },
    {
      "cell_type": "code",
      "metadata": {
        "id": "8kANn38vngLp"
      },
      "source": [
        "import glob"
      ],
      "execution_count": null,
      "outputs": []
    },
    {
      "cell_type": "code",
      "metadata": {
        "id": "Tn8RhrCY7umH"
      },
      "source": [
        "x = glob.glob(\"/content/drive/My Drive/Project 1 /Data/Clean Data/*.csv\")"
      ],
      "execution_count": null,
      "outputs": []
    },
    {
      "cell_type": "code",
      "metadata": {
        "id": "wzYqS5ic8Enk"
      },
      "source": [
        "# Only here cause the whole clean data is already in the folder\n",
        "del x[-1]"
      ],
      "execution_count": null,
      "outputs": []
    },
    {
      "cell_type": "code",
      "metadata": {
        "id": "pyL-MeXH8OOf",
        "colab": {
          "base_uri": "https://localhost:8080/",
          "height": 68
        },
        "outputId": "c3203f9b-ba3f-4de6-8081-eac883f0eab0"
      },
      "source": [
        "x"
      ],
      "execution_count": null,
      "outputs": [
        {
          "output_type": "execute_result",
          "data": {
            "text/plain": [
              "['/content/drive/My Drive/Project 1 /Data/Clean Data/hate-crime-arrests-by-motivation-annual-2019.csv',\n",
              " '/content/drive/My Drive/Project 1 /Data/Clean Data/hate-crime-arrests-by-motivation-annual-2017.csv',\n",
              " '/content/drive/My Drive/Project 1 /Data/Clean Data/hate-crime-arrests-by-motivation-annual-2018.csv']"
            ]
          },
          "metadata": {
            "tags": []
          },
          "execution_count": 107
        }
      ]
    },
    {
      "cell_type": "code",
      "metadata": {
        "id": "c7AEpyO-8Oeb"
      },
      "source": [
        "d19 = pd.read_csv(x[0])\n",
        "d18 = pd.read_csv(x[2])\n",
        "d17 = pd.read_csv(x[1])\n",
        "\n"
      ],
      "execution_count": null,
      "outputs": []
    },
    {
      "cell_type": "code",
      "metadata": {
        "id": "A_wCZBg38nep",
        "colab": {
          "base_uri": "https://localhost:8080/",
          "height": 419
        },
        "outputId": "18b63f2c-24e4-4c3f-85aa-c81a5b463f28"
      },
      "source": [
        "d19[\"Year\"] = 2019\n",
        "d18[\"Year\"] = 2018\n",
        "d17[\"Year\"] = 2017\n",
        "\n",
        "d17 = d17.rename(columns={\"Bias Motivation\" : \"Bias-Motivation\", \" Age\" : \"Age\"})\n",
        "d17\n"
      ],
      "execution_count": null,
      "outputs": [
        {
          "output_type": "execute_result",
          "data": {
            "text/html": [
              "<div>\n",
              "<style scoped>\n",
              "    .dataframe tbody tr th:only-of-type {\n",
              "        vertical-align: middle;\n",
              "    }\n",
              "\n",
              "    .dataframe tbody tr th {\n",
              "        vertical-align: top;\n",
              "    }\n",
              "\n",
              "    .dataframe thead th {\n",
              "        text-align: right;\n",
              "    }\n",
              "</style>\n",
              "<table border=\"1\" class=\"dataframe\">\n",
              "  <thead>\n",
              "    <tr style=\"text-align: right;\">\n",
              "      <th></th>\n",
              "      <th>Precinct</th>\n",
              "      <th>Number</th>\n",
              "      <th>Gender</th>\n",
              "      <th>Race</th>\n",
              "      <th>Age</th>\n",
              "      <th>Bias-Motivation</th>\n",
              "      <th>Year</th>\n",
              "    </tr>\n",
              "  </thead>\n",
              "  <tbody>\n",
              "    <tr>\n",
              "      <th>0</th>\n",
              "      <td>1</td>\n",
              "      <td>1</td>\n",
              "      <td>Male</td>\n",
              "      <td>White</td>\n",
              "      <td>40</td>\n",
              "      <td>Anit-Other Religion</td>\n",
              "      <td>2017</td>\n",
              "    </tr>\n",
              "    <tr>\n",
              "      <th>1</th>\n",
              "      <td>1</td>\n",
              "      <td>2</td>\n",
              "      <td>Male</td>\n",
              "      <td>Black</td>\n",
              "      <td>29</td>\n",
              "      <td>Anti-White</td>\n",
              "      <td>2017</td>\n",
              "    </tr>\n",
              "    <tr>\n",
              "      <th>2</th>\n",
              "      <td>6</td>\n",
              "      <td>3</td>\n",
              "      <td>Male</td>\n",
              "      <td>White</td>\n",
              "      <td>48</td>\n",
              "      <td>Anti-Asian</td>\n",
              "      <td>2017</td>\n",
              "    </tr>\n",
              "    <tr>\n",
              "      <th>3</th>\n",
              "      <td>6</td>\n",
              "      <td>4</td>\n",
              "      <td>Male</td>\n",
              "      <td>White</td>\n",
              "      <td>32</td>\n",
              "      <td>Anti-LGBT</td>\n",
              "      <td>2017</td>\n",
              "    </tr>\n",
              "    <tr>\n",
              "      <th>4</th>\n",
              "      <td>6</td>\n",
              "      <td>5</td>\n",
              "      <td>Male</td>\n",
              "      <td>White</td>\n",
              "      <td>59</td>\n",
              "      <td>Anti-Black</td>\n",
              "      <td>2017</td>\n",
              "    </tr>\n",
              "    <tr>\n",
              "      <th>...</th>\n",
              "      <td>...</td>\n",
              "      <td>...</td>\n",
              "      <td>...</td>\n",
              "      <td>...</td>\n",
              "      <td>...</td>\n",
              "      <td>...</td>\n",
              "      <td>...</td>\n",
              "    </tr>\n",
              "    <tr>\n",
              "      <th>130</th>\n",
              "      <td>120</td>\n",
              "      <td>131</td>\n",
              "      <td>Female</td>\n",
              "      <td>White</td>\n",
              "      <td>38</td>\n",
              "      <td>Anti-LGBT</td>\n",
              "      <td>2017</td>\n",
              "    </tr>\n",
              "    <tr>\n",
              "      <th>131</th>\n",
              "      <td>120</td>\n",
              "      <td>132</td>\n",
              "      <td>Male</td>\n",
              "      <td>Black</td>\n",
              "      <td>20</td>\n",
              "      <td>Anti-LGBT</td>\n",
              "      <td>2017</td>\n",
              "    </tr>\n",
              "    <tr>\n",
              "      <th>132</th>\n",
              "      <td>121</td>\n",
              "      <td>133</td>\n",
              "      <td>Male</td>\n",
              "      <td>White</td>\n",
              "      <td>57</td>\n",
              "      <td>Anti-Hispanic</td>\n",
              "      <td>2017</td>\n",
              "    </tr>\n",
              "    <tr>\n",
              "      <th>133</th>\n",
              "      <td>122</td>\n",
              "      <td>134</td>\n",
              "      <td>Female</td>\n",
              "      <td>White</td>\n",
              "      <td>44</td>\n",
              "      <td>Anti-Black</td>\n",
              "      <td>2017</td>\n",
              "    </tr>\n",
              "    <tr>\n",
              "      <th>134</th>\n",
              "      <td>123</td>\n",
              "      <td>135</td>\n",
              "      <td>Male</td>\n",
              "      <td>White</td>\n",
              "      <td>37</td>\n",
              "      <td>Anti-Jewish</td>\n",
              "      <td>2017</td>\n",
              "    </tr>\n",
              "  </tbody>\n",
              "</table>\n",
              "<p>135 rows × 7 columns</p>\n",
              "</div>"
            ],
            "text/plain": [
              "     Precinct  Number  Gender   Race  Age      Bias-Motivation  Year\n",
              "0           1       1    Male  White   40  Anit-Other Religion  2017\n",
              "1           1       2    Male  Black   29           Anti-White  2017\n",
              "2           6       3    Male  White   48           Anti-Asian  2017\n",
              "3           6       4    Male  White   32            Anti-LGBT  2017\n",
              "4           6       5    Male  White   59           Anti-Black  2017\n",
              "..        ...     ...     ...    ...  ...                  ...   ...\n",
              "130       120     131  Female  White   38            Anti-LGBT  2017\n",
              "131       120     132    Male  Black   20            Anti-LGBT  2017\n",
              "132       121     133    Male  White   57        Anti-Hispanic  2017\n",
              "133       122     134  Female  White   44           Anti-Black  2017\n",
              "134       123     135    Male  White   37          Anti-Jewish  2017\n",
              "\n",
              "[135 rows x 7 columns]"
            ]
          },
          "metadata": {
            "tags": []
          },
          "execution_count": 109
        }
      ]
    },
    {
      "cell_type": "code",
      "metadata": {
        "id": "IBHrLGDjDonQ",
        "colab": {
          "base_uri": "https://localhost:8080/",
          "height": 68
        },
        "outputId": "ee057f7c-b070-4461-f5c6-02d179d66919"
      },
      "source": [
        "print(d17.shape[0])\n",
        "print(d18.shape[0])\n",
        "print(d19.shape[0])"
      ],
      "execution_count": null,
      "outputs": [
        {
          "output_type": "stream",
          "text": [
            "135\n",
            "150\n",
            "133\n"
          ],
          "name": "stdout"
        }
      ]
    },
    {
      "cell_type": "code",
      "metadata": {
        "id": "fYAQkJ4MEKkW",
        "colab": {
          "base_uri": "https://localhost:8080/",
          "height": 295
        },
        "outputId": "cc7fbd10-2d19-4287-810a-6bd1124d992c"
      },
      "source": [
        "X = [2017, 2018, 2019]\n",
        "y = [135, 150, 133]\n",
        "\n",
        "plt.plot(X, y)\n",
        "plt.xlabel(\"Year\")\n",
        "plt.ylabel(\"Number of Bias Motivated Arrests\")\n",
        "plt.title(\"Number of Bias Motivated Arrests vs. Year\")\n",
        "plt.xticks(np.arange(2017, 2020, 1.0))\n",
        "plt.show()"
      ],
      "execution_count": null,
      "outputs": [
        {
          "output_type": "display_data",
          "data": {
            "image/png": "[encoded data removed]",
            "text/plain": [
              "<Figure size 432x288 with 1 Axes>"
            ]
          },
          "metadata": {
            "tags": [],
            "needs_background": "light"
          }
        }
      ]
    },
    {
      "cell_type": "code",
      "metadata": {
        "id": "IN_stPZr8s0Q",
        "colab": {
          "base_uri": "https://localhost:8080/",
          "height": 419
        },
        "outputId": "a631fa63-85b9-4984-bf2f-fa84b71a8cd4"
      },
      "source": [
        "full = pd.concat([d19, d18, d17])\n",
        "full"
      ],
      "execution_count": null,
      "outputs": [
        {
          "output_type": "execute_result",
          "data": {
            "text/html": [
              "<div>\n",
              "<style scoped>\n",
              "    .dataframe tbody tr th:only-of-type {\n",
              "        vertical-align: middle;\n",
              "    }\n",
              "\n",
              "    .dataframe tbody tr th {\n",
              "        vertical-align: top;\n",
              "    }\n",
              "\n",
              "    .dataframe thead th {\n",
              "        text-align: right;\n",
              "    }\n",
              "</style>\n",
              "<table border=\"1\" class=\"dataframe\">\n",
              "  <thead>\n",
              "    <tr style=\"text-align: right;\">\n",
              "      <th></th>\n",
              "      <th>Number</th>\n",
              "      <th>Precinct</th>\n",
              "      <th>Gender</th>\n",
              "      <th>Race</th>\n",
              "      <th>Age</th>\n",
              "      <th>Bias-Motivation</th>\n",
              "      <th>Year</th>\n",
              "    </tr>\n",
              "  </thead>\n",
              "  <tbody>\n",
              "    <tr>\n",
              "      <th>0</th>\n",
              "      <td>1</td>\n",
              "      <td>1</td>\n",
              "      <td>Female</td>\n",
              "      <td>White</td>\n",
              "      <td>64</td>\n",
              "      <td>Anti-Islamic (Muslim)</td>\n",
              "      <td>2019</td>\n",
              "    </tr>\n",
              "    <tr>\n",
              "      <th>1</th>\n",
              "      <td>2</td>\n",
              "      <td>5</td>\n",
              "      <td>Female</td>\n",
              "      <td>White</td>\n",
              "      <td>49</td>\n",
              "      <td>Anti-Hispanic</td>\n",
              "      <td>2019</td>\n",
              "    </tr>\n",
              "    <tr>\n",
              "      <th>2</th>\n",
              "      <td>3</td>\n",
              "      <td>5</td>\n",
              "      <td>Male</td>\n",
              "      <td>White</td>\n",
              "      <td>44</td>\n",
              "      <td>Anti-Islamic (Muslim)</td>\n",
              "      <td>2019</td>\n",
              "    </tr>\n",
              "    <tr>\n",
              "      <th>3</th>\n",
              "      <td>4</td>\n",
              "      <td>5</td>\n",
              "      <td>Male</td>\n",
              "      <td>Black</td>\n",
              "      <td>41</td>\n",
              "      <td>Anti-White</td>\n",
              "      <td>2019</td>\n",
              "    </tr>\n",
              "    <tr>\n",
              "      <th>4</th>\n",
              "      <td>5</td>\n",
              "      <td>6</td>\n",
              "      <td>Male</td>\n",
              "      <td>Black</td>\n",
              "      <td>21</td>\n",
              "      <td>Anti-Jewish</td>\n",
              "      <td>2019</td>\n",
              "    </tr>\n",
              "    <tr>\n",
              "      <th>...</th>\n",
              "      <td>...</td>\n",
              "      <td>...</td>\n",
              "      <td>...</td>\n",
              "      <td>...</td>\n",
              "      <td>...</td>\n",
              "      <td>...</td>\n",
              "      <td>...</td>\n",
              "    </tr>\n",
              "    <tr>\n",
              "      <th>130</th>\n",
              "      <td>131</td>\n",
              "      <td>120</td>\n",
              "      <td>Female</td>\n",
              "      <td>White</td>\n",
              "      <td>38</td>\n",
              "      <td>Anti-LGBT</td>\n",
              "      <td>2017</td>\n",
              "    </tr>\n",
              "    <tr>\n",
              "      <th>131</th>\n",
              "      <td>132</td>\n",
              "      <td>120</td>\n",
              "      <td>Male</td>\n",
              "      <td>Black</td>\n",
              "      <td>20</td>\n",
              "      <td>Anti-LGBT</td>\n",
              "      <td>2017</td>\n",
              "    </tr>\n",
              "    <tr>\n",
              "      <th>132</th>\n",
              "      <td>133</td>\n",
              "      <td>121</td>\n",
              "      <td>Male</td>\n",
              "      <td>White</td>\n",
              "      <td>57</td>\n",
              "      <td>Anti-Hispanic</td>\n",
              "      <td>2017</td>\n",
              "    </tr>\n",
              "    <tr>\n",
              "      <th>133</th>\n",
              "      <td>134</td>\n",
              "      <td>122</td>\n",
              "      <td>Female</td>\n",
              "      <td>White</td>\n",
              "      <td>44</td>\n",
              "      <td>Anti-Black</td>\n",
              "      <td>2017</td>\n",
              "    </tr>\n",
              "    <tr>\n",
              "      <th>134</th>\n",
              "      <td>135</td>\n",
              "      <td>123</td>\n",
              "      <td>Male</td>\n",
              "      <td>White</td>\n",
              "      <td>37</td>\n",
              "      <td>Anti-Jewish</td>\n",
              "      <td>2017</td>\n",
              "    </tr>\n",
              "  </tbody>\n",
              "</table>\n",
              "<p>418 rows × 7 columns</p>\n",
              "</div>"
            ],
            "text/plain": [
              "     Number  Precinct  Gender   Race  Age        Bias-Motivation  Year\n",
              "0         1         1  Female  White   64  Anti-Islamic (Muslim)  2019\n",
              "1         2         5  Female  White   49          Anti-Hispanic  2019\n",
              "2         3         5    Male  White   44  Anti-Islamic (Muslim)  2019\n",
              "3         4         5    Male  Black   41             Anti-White  2019\n",
              "4         5         6    Male  Black   21            Anti-Jewish  2019\n",
              "..      ...       ...     ...    ...  ...                    ...   ...\n",
              "130     131       120  Female  White   38              Anti-LGBT  2017\n",
              "131     132       120    Male  Black   20              Anti-LGBT  2017\n",
              "132     133       121    Male  White   57          Anti-Hispanic  2017\n",
              "133     134       122  Female  White   44             Anti-Black  2017\n",
              "134     135       123    Male  White   37            Anti-Jewish  2017\n",
              "\n",
              "[418 rows x 7 columns]"
            ]
          },
          "metadata": {
            "tags": []
          },
          "execution_count": 112
        }
      ]
    },
    {
      "cell_type": "code",
      "metadata": {
        "id": "iVHwYmn8-Vv9",
        "colab": {
          "base_uri": "https://localhost:8080/",
          "height": 296
        },
        "outputId": "dfaa1d72-e34e-4fc5-dcc4-579eb33f1942"
      },
      "source": [
        "sns.countplot(x = \"Race\", data = full)"
      ],
      "execution_count": null,
      "outputs": [
        {
          "output_type": "execute_result",
          "data": {
            "text/plain": [
              "<matplotlib.axes._subplots.AxesSubplot at 0x7fc127a959e8>"
            ]
          },
          "metadata": {
            "tags": []
          },
          "execution_count": 113
        },
        {
          "output_type": "display_data",
          "data": {
            "image/png": "[encoded data removed]",
            "text/plain": [
              "<Figure size 432x288 with 1 Axes>"
            ]
          },
          "metadata": {
            "tags": [],
            "needs_background": "light"
          }
        }
      ]
    },
    {
      "cell_type": "code",
      "metadata": {
        "id": "ZNoIlvZ6-a4Q",
        "colab": {
          "base_uri": "https://localhost:8080/",
          "height": 296
        },
        "outputId": "07ea0d98-4dfc-4564-b67d-2851059da4eb"
      },
      "source": [
        "sns.countplot(x = \"Gender\", data = full)"
      ],
      "execution_count": null,
      "outputs": [
        {
          "output_type": "execute_result",
          "data": {
            "text/plain": [
              "<matplotlib.axes._subplots.AxesSubplot at 0x7fc127b4f550>"
            ]
          },
          "metadata": {
            "tags": []
          },
          "execution_count": 114
        },
        {
          "output_type": "display_data",
          "data": {
            "image/png": "[encoded data removed]",
            "text/plain": [
              "<Figure size 432x288 with 1 Axes>"
            ]
          },
          "metadata": {
            "tags": [],
            "needs_background": "light"
          }
        }
      ]
    },
    {
      "cell_type": "code",
      "metadata": {
        "id": "SJm0oUfw-lV-",
        "colab": {
          "base_uri": "https://localhost:8080/",
          "height": 687
        },
        "outputId": "12f794c0-a4d2-4cbb-c1ea-b978181fb62c"
      },
      "source": [
        "sns.countplot(y = \"Bias-Motivation\", data = full)\n",
        "full[\"Bias-Motivation\"].value_counts()\n"
      ],
      "execution_count": null,
      "outputs": [
        {
          "output_type": "execute_result",
          "data": {
            "text/plain": [
              "Anti-Jewish                              139\n",
              "Anti-male homosexual (Gay)                51\n",
              "Anti-Islamic (Muslim)                     49\n",
              "Anti-LGBT                                 40\n",
              "Anti-Black                                39\n",
              "Anti-White                                27\n",
              "Anti-Hispanic                             10\n",
              "Anti-transgender                           9\n",
              "Anti-Asian                                 8\n",
              "Anti-Transgender                           8\n",
              "Anit-Other Religion                        8\n",
              "Anti-other  ethnicity/national origin      6\n",
              "Anti-Other Ethnicity                       6\n",
              "Anti-other religion                        3\n",
              "Anti-Catholic                              2\n",
              "Anti-Gender Non-Conforming                 2\n",
              "Anti-Arab                                  2\n",
              "Anti-LGBT (mixed group)                    2\n",
              "Anti-60 Years old or more                  2\n",
              "Anti-female homosexual (Lesbian)           2\n",
              "Undetermind                                1\n",
              "Anti-Mormon                                1\n",
              "Anti-multi racial groups                   1\n",
              "Name: Bias-Motivation, dtype: int64"
            ]
          },
          "metadata": {
            "tags": []
          },
          "execution_count": 121
        },
        {
          "output_type": "display_data",
          "data": {
            "image/png": "[encoded data removed]",
            "text/plain": [
              "<Figure size 432x288 with 1 Axes>"
            ]
          },
          "metadata": {
            "tags": [],
            "needs_background": "light"
          }
        }
      ]
    },
    {
      "cell_type": "code",
      "metadata": {
        "id": "ilSjP-E0-oT3",
        "colab": {
          "base_uri": "https://localhost:8080/",
          "height": 867
        },
        "outputId": "e074f4c1-8275-4121-8a15-7ef9fd2e42ee"
      },
      "source": [
        "full.groupby(['Race', 'Bias-Motivation']).size()"
      ],
      "execution_count": null,
      "outputs": [
        {
          "output_type": "execute_result",
          "data": {
            "text/plain": [
              "Race      Bias-Motivation                      \n",
              "Asian     Anti-Black                                1\n",
              "          Anti-Catholic                             1\n",
              "          Anti-Islamic (Muslim)                     4\n",
              "          Anti-Jewish                               9\n",
              "          Anti-LGBT                                 2\n",
              "          Anti-Other Ethnicity                      1\n",
              "          Anti-male homosexual (Gay)                5\n",
              "Black     Anit-Other Religion                       2\n",
              "          Anti-Arab                                 1\n",
              "          Anti-Asian                                2\n",
              "          Anti-Black                                2\n",
              "          Anti-Gender Non-Conforming                2\n",
              "          Anti-Hispanic                             5\n",
              "          Anti-Islamic (Muslim)                    16\n",
              "          Anti-Jewish                              61\n",
              "          Anti-LGBT                                27\n",
              "          Anti-LGBT (mixed group)                   2\n",
              "          Anti-Other Ethnicity                      2\n",
              "          Anti-Transgender                          3\n",
              "          Anti-White                               25\n",
              "          Anti-female homosexual (Lesbian)          1\n",
              "          Anti-male homosexual (Gay)               27\n",
              "          Anti-other  ethnicity/national origin     4\n",
              "          Anti-transgender                          6\n",
              "Hispanic  Anti-Jewish                               2\n",
              "Unknown   Anti-Jewish                               1\n",
              "          Anti-transgender                          1\n",
              "White     Anit-Other Religion                       6\n",
              "          Anti-60 Years old or more                 2\n",
              "          Anti-Arab                                 1\n",
              "          Anti-Asian                                6\n",
              "          Anti-Black                               36\n",
              "          Anti-Catholic                             1\n",
              "          Anti-Hispanic                             5\n",
              "          Anti-Islamic (Muslim)                    29\n",
              "          Anti-Jewish                              66\n",
              "          Anti-LGBT                                11\n",
              "          Anti-Mormon                               1\n",
              "          Anti-Other Ethnicity                      3\n",
              "          Anti-Transgender                          5\n",
              "          Anti-White                                2\n",
              "          Anti-female homosexual (Lesbian)          1\n",
              "          Anti-male homosexual (Gay)               19\n",
              "          Anti-multi racial groups                  1\n",
              "          Anti-other  ethnicity/national origin     2\n",
              "          Anti-other religion                       3\n",
              "          Anti-transgender                          2\n",
              "          Undetermind                               1\n",
              "dtype: int64"
            ]
          },
          "metadata": {
            "tags": []
          },
          "execution_count": 129
        }
      ]
    },
    {
      "cell_type": "code",
      "metadata": {
        "id": "bxuocRXj_oyK",
        "colab": {
          "base_uri": "https://localhost:8080/",
          "height": 629
        },
        "outputId": "a65a80f1-09f9-4268-c8dd-98ba37051612"
      },
      "source": [
        "full.groupby(['Gender', 'Bias-Motivation']).size()"
      ],
      "execution_count": null,
      "outputs": [
        {
          "output_type": "execute_result",
          "data": {
            "text/plain": [
              "Gender  Bias-Motivation                      \n",
              "Female  Anti-60 Years old or more                  1\n",
              "        Anti-Black                                 3\n",
              "        Anti-Hispanic                              3\n",
              "        Anti-Islamic (Muslim)                     11\n",
              "        Anti-Jewish                                9\n",
              "        Anti-LGBT                                  5\n",
              "        Anti-Transgender                           2\n",
              "        Anti-White                                 2\n",
              "        Anti-male homosexual (Gay)                 2\n",
              "        Anti-other  ethnicity/national origin      3\n",
              "        Anti-transgender                           3\n",
              "Male    Anit-Other Religion                        8\n",
              "        Anti-60 Years old or more                  1\n",
              "        Anti-Arab                                  2\n",
              "        Anti-Asian                                 8\n",
              "        Anti-Black                                36\n",
              "        Anti-Catholic                              2\n",
              "        Anti-Gender Non-Conforming                 2\n",
              "        Anti-Hispanic                              7\n",
              "        Anti-Islamic (Muslim)                     38\n",
              "        Anti-Jewish                              130\n",
              "        Anti-LGBT                                 35\n",
              "        Anti-LGBT (mixed group)                    2\n",
              "        Anti-Mormon                                1\n",
              "        Anti-Other Ethnicity                       6\n",
              "        Anti-Transgender                           6\n",
              "        Anti-White                                25\n",
              "        Anti-female homosexual (Lesbian)           2\n",
              "        Anti-male homosexual (Gay)                49\n",
              "        Anti-multi racial groups                   1\n",
              "        Anti-other  ethnicity/national origin      3\n",
              "        Anti-other religion                        3\n",
              "        Anti-transgender                           6\n",
              "        Undetermind                                1\n",
              "dtype: int64"
            ]
          },
          "metadata": {
            "tags": []
          },
          "execution_count": 130
        }
      ]
    },
    {
      "cell_type": "code",
      "metadata": {
        "id": "kgOnbDB7CtbR"
      },
      "source": [
        "full.groupby(['Race', 'Bias-Motivation']).size()"
      ],
      "execution_count": null,
      "outputs": []
    },
    {
      "cell_type": "code",
      "metadata": {
        "id": "jSM0d0kBQRBr",
        "colab": {
          "base_uri": "https://localhost:8080/",
          "height": 1000
        },
        "outputId": "3d06f3c1-2fe4-49f9-cfbe-29fd04c1e720"
      },
      "source": [
        "pd.set_option(\"display.max_rows\", None, \"display.max_columns\", None)\n",
        "full.groupby(['Age', 'Bias-Motivation']).size()"
      ],
      "execution_count": null,
      "outputs": [
        {
          "output_type": "execute_result",
          "data": {
            "text/plain": [
              "Age  Bias-Motivation                      \n",
              "11   Anti-Jewish                               1\n",
              "12   Anti-Asian                                1\n",
              "     Anti-Islamic (Muslim)                     1\n",
              "     Anti-Jewish                               5\n",
              "13   Anti-Islamic (Muslim)                     2\n",
              "     Anti-Jewish                               2\n",
              "     Anti-LGBT                                 2\n",
              "14   Anti-Islamic (Muslim)                     5\n",
              "     Anti-Jewish                               1\n",
              "     Anti-LGBT                                 3\n",
              "     Anti-White                                1\n",
              "15   Anti-Black                                1\n",
              "     Anti-Islamic (Muslim)                     3\n",
              "     Anti-LGBT                                 1\n",
              "16   Anti-Black                                2\n",
              "     Anti-Islamic (Muslim)                     1\n",
              "     Anti-Jewish                               5\n",
              "     Anti-Other Ethnicity                      1\n",
              "     Anti-White                                2\n",
              "     Anti-male homosexual (Gay)                4\n",
              "     Anti-transgender                          1\n",
              "17   Anti-Islamic (Muslim)                     1\n",
              "     Anti-Jewish                               2\n",
              "18   Anti-Hispanic                             1\n",
              "     Anti-Jewish                              10\n",
              "     Anti-LGBT                                 1\n",
              "     Anti-White                                1\n",
              "19   Anti-Hispanic                             1\n",
              "     Anti-Islamic (Muslim)                     1\n",
              "     Anti-Jewish                               4\n",
              "     Anti-male homosexual (Gay)                1\n",
              "20   Anti-Black                                1\n",
              "     Anti-Jewish                               5\n",
              "     Anti-LGBT                                 2\n",
              "     Anti-LGBT (mixed group)                   2\n",
              "     Anti-Transgender                          1\n",
              "21   Anit-Other Religion                       2\n",
              "     Anti-Black                                1\n",
              "     Anti-Islamic (Muslim)                     1\n",
              "     Anti-Jewish                               5\n",
              "     Anti-Other Ethnicity                      1\n",
              "     Anti-male homosexual (Gay)                4\n",
              "22   Anit-Other Religion                       1\n",
              "     Anti-Hispanic                             1\n",
              "     Anti-Islamic (Muslim)                     1\n",
              "     Anti-LGBT                                 1\n",
              "     Anti-Transgender                          1\n",
              "     Anti-White                                1\n",
              "     Anti-other  ethnicity/national origin     1\n",
              "23   Anit-Other Religion                       1\n",
              "     Anti-Black                                4\n",
              "     Anti-White                                1\n",
              "     Anti-male homosexual (Gay)                4\n",
              "24   Anti-Gender Non-Conforming                1\n",
              "     Anti-Jewish                               8\n",
              "     Anti-LGBT                                 2\n",
              "     Anti-White                                2\n",
              "     Anti-male homosexual (Gay)                2\n",
              "     Anti-other  ethnicity/national origin     1\n",
              "     Anti-transgender                          1\n",
              "25   Anti-Black                                3\n",
              "     Anti-Hispanic                             1\n",
              "     Anti-Islamic (Muslim)                     2\n",
              "     Anti-Jewish                               1\n",
              "     Anti-Transgender                          1\n",
              "     Anti-male homosexual (Gay)                2\n",
              "26   Anti-Black                                1\n",
              "     Anti-Catholic                             1\n",
              "     Anti-Jewish                              11\n",
              "     Anti-LGBT                                 3\n",
              "     Anti-male homosexual (Gay)                1\n",
              "27   Anti-Black                                1\n",
              "     Anti-Islamic (Muslim)                     1\n",
              "     Anti-Jewish                               2\n",
              "     Anti-LGBT                                 1\n",
              "     Anti-other  ethnicity/national origin     1\n",
              "28   Anit-Other Religion                       1\n",
              "     Anti-60 Years old or more                 1\n",
              "     Anti-Asian                                1\n",
              "     Anti-Black                                2\n",
              "     Anti-Catholic                             1\n",
              "     Anti-Hispanic                             1\n",
              "     Anti-Jewish                              13\n",
              "     Anti-LGBT                                 1\n",
              "     Anti-Other Ethnicity                      1\n",
              "     Anti-male homosexual (Gay)                5\n",
              "     Undetermind                               1\n",
              "29   Anti-60 Years old or more                 1\n",
              "     Anti-Jewish                               1\n",
              "     Anti-White                                2\n",
              "     Anti-male homosexual (Gay)                2\n",
              "30   Anit-Other Religion                       1\n",
              "     Anti-Jewish                               4\n",
              "     Anti-LGBT                                 1\n",
              "31   Anti-Islamic (Muslim)                     1\n",
              "     Anti-Jewish                               1\n",
              "     Anti-White                                1\n",
              "     Anti-male homosexual (Gay)                2\n",
              "32   Anti-Jewish                               4\n",
              "     Anti-LGBT                                 4\n",
              "     Anti-male homosexual (Gay)                1\n",
              "     Anti-transgender                          1\n",
              "33   Anti-Black                                3\n",
              "     Anti-Islamic (Muslim)                     1\n",
              "     Anti-White                                5\n",
              "     Anti-male homosexual (Gay)                4\n",
              "34   Anti-Asian                                3\n",
              "     Anti-Islamic (Muslim)                     2\n",
              "     Anti-White                                1\n",
              "     Anti-other religion                       1\n",
              "     Anti-transgender                          2\n",
              "35   Anti-Jewish                              23\n",
              "     Anti-LGBT                                 1\n",
              "     Anti-Transgender                          2\n",
              "     Anti-other religion                       1\n",
              "     Anti-transgender                          1\n",
              "36   Anti-Arab                                 1\n",
              "     Anti-Black                                2\n",
              "     Anti-Islamic (Muslim)                     1\n",
              "     Anti-Jewish                               1\n",
              "     Anti-LGBT                                 2\n",
              "     Anti-male homosexual (Gay)                1\n",
              "37   Anti-Black                                2\n",
              "     Anti-Islamic (Muslim)                     5\n",
              "     Anti-Jewish                               3\n",
              "     Anti-LGBT                                 3\n",
              "     Anti-White                                5\n",
              "     Anti-female homosexual (Lesbian)          1\n",
              "     Anti-male homosexual (Gay)                1\n",
              "38   Anti-Arab                                 1\n",
              "     Anti-Black                                1\n",
              "     Anti-Islamic (Muslim)                     2\n",
              "     Anti-Jewish                               2\n",
              "     Anti-LGBT                                 3\n",
              "     Anti-male homosexual (Gay)                3\n",
              "39   Anti-Asian                                1\n",
              "     Anti-Gender Non-Conforming                1\n",
              "     Anti-Islamic (Muslim)                     1\n",
              "     Anti-Jewish                               2\n",
              "     Anti-Other Ethnicity                      1\n",
              "     Anti-Transgender                          1\n",
              "     Anti-White                                3\n",
              "     Anti-male homosexual (Gay)                1\n",
              "40   Anit-Other Religion                       1\n",
              "     Anti-Islamic (Muslim)                     2\n",
              "     Anti-Jewish                               1\n",
              "     Anti-LGBT                                 1\n",
              "     Anti-male homosexual (Gay)                2\n",
              "41   Anti-Asian                                1\n",
              "     Anti-Jewish                               2\n",
              "     Anti-LGBT                                 1\n",
              "     Anti-White                                1\n",
              "     Anti-male homosexual (Gay)                2\n",
              "     Anti-other  ethnicity/national origin     1\n",
              "42   Anti-Islamic (Muslim)                     1\n",
              "     Anti-Jewish                               5\n",
              "     Anti-other  ethnicity/national origin     1\n",
              "43   Anti-Jewish                               1\n",
              "     Anti-other religion                       1\n",
              "44   Anti-Black                                2\n",
              "     Anti-Islamic (Muslim)                     2\n",
              "     Anti-Jewish                               2\n",
              "     Anti-male homosexual (Gay)                1\n",
              "45   Anti-Jewish                               1\n",
              "     Anti-Mormon                               1\n",
              "     Anti-female homosexual (Lesbian)          1\n",
              "46   Anti-Black                                2\n",
              "     Anti-male homosexual (Gay)                1\n",
              "47   Anti-Hispanic                             1\n",
              "     Anti-Islamic (Muslim)                     1\n",
              "     Anti-Jewish                               1\n",
              "48   Anti-Asian                                1\n",
              "     Anti-Black                                1\n",
              "     Anti-Islamic (Muslim)                     3\n",
              "     Anti-LGBT                                 1\n",
              "     Anti-transgender                          1\n",
              "49   Anti-Hispanic                             1\n",
              "     Anti-Islamic (Muslim)                     1\n",
              "50   Anti-Black                                1\n",
              "     Anti-LGBT                                 2\n",
              "     Anti-Other Ethnicity                      1\n",
              "     Anti-male homosexual (Gay)                1\n",
              "51   Anti-Jewish                               2\n",
              "52   Anti-Black                                2\n",
              "     Anti-transgender                          1\n",
              "53   Anti-Hispanic                             1\n",
              "     Anti-Islamic (Muslim)                     1\n",
              "     Anti-LGBT                                 1\n",
              "     Anti-Other Ethnicity                      1\n",
              "     Anti-male homosexual (Gay)                1\n",
              "54   Anti-Hispanic                             1\n",
              "     Anti-Jewish                               1\n",
              "     Anti-White                                1\n",
              "     Anti-male homosexual (Gay)                1\n",
              "     Anti-transgender                          1\n",
              "55   Anti-Black                                1\n",
              "     Anti-Islamic (Muslim)                     3\n",
              "     Anti-male homosexual (Gay)                1\n",
              "56   Anit-Other Religion                       1\n",
              "57   Anti-Black                                1\n",
              "     Anti-Hispanic                             1\n",
              "     Anti-Islamic (Muslim)                     1\n",
              "     Anti-LGBT                                 1\n",
              "     Anti-male homosexual (Gay)                1\n",
              "     Anti-other  ethnicity/national origin     1\n",
              "58   Anti-Black                                2\n",
              "     Anti-Jewish                               2\n",
              "     Anti-Transgender                          1\n",
              "59   Anti-Black                                1\n",
              "     Anti-male homosexual (Gay)                1\n",
              "60   Anti-LGBT                                 1\n",
              "61   Anti-Black                                2\n",
              "     Anti-Jewish                               1\n",
              "     Anti-Transgender                          1\n",
              "63   Anti-Jewish                               1\n",
              "64   Anti-Islamic (Muslim)                     1\n",
              "     Anti-Jewish                               1\n",
              "69   Anti-Islamic (Muslim)                     1\n",
              "71   Anti-Jewish                               1\n",
              "72   Anti-LGBT                                 1\n",
              "     Anti-male homosexual (Gay)                1\n",
              "73   Anti-multi racial groups                  1\n",
              "79   Anti-Jewish                               1\n",
              "dtype: int64"
            ]
          },
          "metadata": {
            "tags": []
          },
          "execution_count": 127
        }
      ]
    },
    {
      "cell_type": "code",
      "metadata": {
        "id": "jVcX6QKUXUD-",
        "colab": {
          "base_uri": "https://localhost:8080/",
          "height": 714
        },
        "outputId": "514ebfb8-036d-45f9-b288-0aea3f028409"
      },
      "source": [
        "full.groupby(['Bias-Motivation', 'Year']).size()"
      ],
      "execution_count": null,
      "outputs": [
        {
          "output_type": "execute_result",
          "data": {
            "text/plain": [
              "Bias-Motivation                        Year\n",
              "Anit-Other Religion                    2017     8\n",
              "Anti-60 Years old or more              2017     2\n",
              "Anti-Arab                              2018     1\n",
              "                                       2019     1\n",
              "Anti-Asian                             2017     3\n",
              "                                       2018     2\n",
              "                                       2019     3\n",
              "Anti-Black                             2017    17\n",
              "                                       2018    13\n",
              "                                       2019     9\n",
              "Anti-Catholic                          2018     2\n",
              "Anti-Gender Non-Conforming             2017     2\n",
              "Anti-Hispanic                          2017     3\n",
              "                                       2018     3\n",
              "                                       2019     4\n",
              "Anti-Islamic (Muslim)                  2017    22\n",
              "                                       2018    10\n",
              "                                       2019    17\n",
              "Anti-Jewish                            2017    23\n",
              "                                       2018    69\n",
              "                                       2019    47\n",
              "Anti-LGBT                              2017    40\n",
              "Anti-LGBT (mixed group)                2019     2\n",
              "Anti-Mormon                            2018     1\n",
              "Anti-Other Ethnicity                   2017     6\n",
              "Anti-Transgender                       2018     8\n",
              "Anti-White                             2017     8\n",
              "                                       2018     6\n",
              "                                       2019    13\n",
              "Anti-female homosexual (Lesbian)       2018     1\n",
              "                                       2019     1\n",
              "Anti-male homosexual (Gay)             2018    27\n",
              "                                       2019    24\n",
              "Anti-multi racial groups               2019     1\n",
              "Anti-other  ethnicity/national origin  2018     6\n",
              "Anti-other religion                    2018     1\n",
              "                                       2019     2\n",
              "Anti-transgender                       2019     9\n",
              "Undetermind                            2017     1\n",
              "dtype: int64"
            ]
          },
          "metadata": {
            "tags": []
          },
          "execution_count": 134
        }
      ]
    },
    {
      "cell_type": "code",
      "metadata": {
        "id": "kH882Jd2QSHh"
      },
      "source": [
        ""
      ],
      "execution_count": null,
      "outputs": []
    }
  ]
}